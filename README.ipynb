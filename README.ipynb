# udemy_ml_content

This is the content from the Machine Learning course conducted by Kirill Eremenko and Hadelin Depontes. All the rights for the code belong to them. I am just uploading here for the sake of saving them for future purpose. If you'd like to check it out, feel free to do so. 
